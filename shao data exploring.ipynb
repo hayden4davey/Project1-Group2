{
 "cells": [
  {
   "cell_type": "code",
   "execution_count": 2,
   "metadata": {},
   "outputs": [
    {
     "data": {
      "text/html": [
       "<div>\n",
       "<style scoped>\n",
       "    .dataframe tbody tr th:only-of-type {\n",
       "        vertical-align: middle;\n",
       "    }\n",
       "\n",
       "    .dataframe tbody tr th {\n",
       "        vertical-align: top;\n",
       "    }\n",
       "\n",
       "    .dataframe thead th {\n",
       "        text-align: right;\n",
       "    }\n",
       "</style>\n",
       "<table border=\"1\" class=\"dataframe\">\n",
       "  <thead>\n",
       "    <tr style=\"text-align: right;\">\n",
       "      <th></th>\n",
       "      <th>ID</th>\n",
       "      <th>Name</th>\n",
       "      <th>Host ID</th>\n",
       "      <th>Host Name</th>\n",
       "      <th>Neighbourhood Group</th>\n",
       "      <th>Neighbourhood</th>\n",
       "      <th>Latitude</th>\n",
       "      <th>Longitude</th>\n",
       "      <th>Room Type</th>\n",
       "      <th>Price</th>\n",
       "      <th>Minimum Nights</th>\n",
       "      <th>Number of Reviews</th>\n",
       "      <th>Last Review</th>\n",
       "      <th>Reviews per Month</th>\n",
       "      <th>Calculated Host Listings Count</th>\n",
       "      <th>Availability</th>\n",
       "    </tr>\n",
       "  </thead>\n",
       "  <tbody>\n",
       "    <tr>\n",
       "      <th>0</th>\n",
       "      <td>2539</td>\n",
       "      <td>Clean &amp; quiet apt home by the park</td>\n",
       "      <td>2787</td>\n",
       "      <td>John</td>\n",
       "      <td>Brooklyn</td>\n",
       "      <td>Kensington</td>\n",
       "      <td>40.64749</td>\n",
       "      <td>-73.97237</td>\n",
       "      <td>Private room</td>\n",
       "      <td>149</td>\n",
       "      <td>1</td>\n",
       "      <td>9</td>\n",
       "      <td>2018-10-19</td>\n",
       "      <td>0.21</td>\n",
       "      <td>6</td>\n",
       "      <td>365</td>\n",
       "    </tr>\n",
       "    <tr>\n",
       "      <th>1</th>\n",
       "      <td>2595</td>\n",
       "      <td>Skylit Midtown Castle</td>\n",
       "      <td>2845</td>\n",
       "      <td>Jennifer</td>\n",
       "      <td>Manhattan</td>\n",
       "      <td>Midtown</td>\n",
       "      <td>40.75362</td>\n",
       "      <td>-73.98377</td>\n",
       "      <td>Entire home/apt</td>\n",
       "      <td>225</td>\n",
       "      <td>1</td>\n",
       "      <td>45</td>\n",
       "      <td>2019-05-21</td>\n",
       "      <td>0.38</td>\n",
       "      <td>2</td>\n",
       "      <td>355</td>\n",
       "    </tr>\n",
       "    <tr>\n",
       "      <th>2</th>\n",
       "      <td>3647</td>\n",
       "      <td>THE VILLAGE OF HARLEM....NEW YORK !</td>\n",
       "      <td>4632</td>\n",
       "      <td>Elisabeth</td>\n",
       "      <td>Manhattan</td>\n",
       "      <td>Harlem</td>\n",
       "      <td>40.80902</td>\n",
       "      <td>-73.94190</td>\n",
       "      <td>Private room</td>\n",
       "      <td>150</td>\n",
       "      <td>3</td>\n",
       "      <td>0</td>\n",
       "      <td>NaN</td>\n",
       "      <td>NaN</td>\n",
       "      <td>1</td>\n",
       "      <td>365</td>\n",
       "    </tr>\n",
       "    <tr>\n",
       "      <th>3</th>\n",
       "      <td>3831</td>\n",
       "      <td>Cozy Entire Floor of Brownstone</td>\n",
       "      <td>4869</td>\n",
       "      <td>LisaRoxanne</td>\n",
       "      <td>Brooklyn</td>\n",
       "      <td>Clinton Hill</td>\n",
       "      <td>40.68514</td>\n",
       "      <td>-73.95976</td>\n",
       "      <td>Entire home/apt</td>\n",
       "      <td>89</td>\n",
       "      <td>1</td>\n",
       "      <td>270</td>\n",
       "      <td>2019-07-05</td>\n",
       "      <td>4.64</td>\n",
       "      <td>1</td>\n",
       "      <td>194</td>\n",
       "    </tr>\n",
       "    <tr>\n",
       "      <th>4</th>\n",
       "      <td>5099</td>\n",
       "      <td>Large Cozy 1 BR Apartment In Midtown East</td>\n",
       "      <td>7322</td>\n",
       "      <td>Chris</td>\n",
       "      <td>Manhattan</td>\n",
       "      <td>Murray Hill</td>\n",
       "      <td>40.74767</td>\n",
       "      <td>-73.97500</td>\n",
       "      <td>Entire home/apt</td>\n",
       "      <td>200</td>\n",
       "      <td>3</td>\n",
       "      <td>74</td>\n",
       "      <td>2019-06-22</td>\n",
       "      <td>0.59</td>\n",
       "      <td>1</td>\n",
       "      <td>129</td>\n",
       "    </tr>\n",
       "  </tbody>\n",
       "</table>\n",
       "</div>"
      ],
      "text/plain": [
       "     ID                                       Name  Host ID    Host Name  \\\n",
       "0  2539         Clean & quiet apt home by the park     2787         John   \n",
       "1  2595                      Skylit Midtown Castle     2845     Jennifer   \n",
       "2  3647        THE VILLAGE OF HARLEM....NEW YORK !     4632    Elisabeth   \n",
       "3  3831            Cozy Entire Floor of Brownstone     4869  LisaRoxanne   \n",
       "4  5099  Large Cozy 1 BR Apartment In Midtown East     7322        Chris   \n",
       "\n",
       "  Neighbourhood Group Neighbourhood  Latitude  Longitude        Room Type  \\\n",
       "0            Brooklyn    Kensington  40.64749  -73.97237     Private room   \n",
       "1           Manhattan       Midtown  40.75362  -73.98377  Entire home/apt   \n",
       "2           Manhattan        Harlem  40.80902  -73.94190     Private room   \n",
       "3            Brooklyn  Clinton Hill  40.68514  -73.95976  Entire home/apt   \n",
       "4           Manhattan   Murray Hill  40.74767  -73.97500  Entire home/apt   \n",
       "\n",
       "   Price  Minimum Nights  Number of Reviews Last Review  Reviews per Month  \\\n",
       "0    149               1                  9  2018-10-19               0.21   \n",
       "1    225               1                 45  2019-05-21               0.38   \n",
       "2    150               3                  0         NaN                NaN   \n",
       "3     89               1                270  2019-07-05               4.64   \n",
       "4    200               3                 74  2019-06-22               0.59   \n",
       "\n",
       "   Calculated Host Listings Count  Availability  \n",
       "0                               6           365  \n",
       "1                               2           355  \n",
       "2                               1           365  \n",
       "3                               1           194  \n",
       "4                               1           129  "
      ]
     },
     "execution_count": 2,
     "metadata": {},
     "output_type": "execute_result"
    }
   ],
   "source": [
    "import pandas as pd\n",
    "import numpy as np\n",
    "import matplotlib.pyplot as plt\n",
    "%matplotlib inline\n",
    "# import seaborn as sns\n",
    "# sns.set(style=\"ticks\")\n",
    "\n",
    "data =pd.read_csv(\"Resources/CleanAirbnbData.csv\")\n",
    "datadf = pd.DataFrame(data)\n",
    "# read data\n",
    "datadf.head()"
   ]
  },
  {
   "cell_type": "code",
   "execution_count": 5,
   "metadata": {},
   "outputs": [
    {
     "name": "stdout",
     "output_type": "stream",
     "text": [
      "327\n"
     ]
    }
   ],
   "source": [
    "print(max(datadf['Calculated Host Listings Count']))"
   ]
  },
  {
   "cell_type": "code",
   "execution_count": 6,
   "metadata": {},
   "outputs": [
    {
     "data": {
      "text/plain": [
       "ID                                   0\n",
       "Name                                 4\n",
       "Host ID                              0\n",
       "Host Name                            8\n",
       "Neighbourhood Group                  0\n",
       "Neighbourhood                        0\n",
       "Latitude                             0\n",
       "Longitude                            0\n",
       "Room Type                            0\n",
       "Price                                0\n",
       "Minimum Nights                       0\n",
       "Number of Reviews                    0\n",
       "Last Review                       5207\n",
       "Reviews per Month                 5207\n",
       "Calculated Host Listings Count       0\n",
       "Availability                         0\n",
       "dtype: int64"
      ]
     },
     "execution_count": 6,
     "metadata": {},
     "output_type": "execute_result"
    }
   ],
   "source": [
    "# Check null value\n",
    "datadf.isnull().sum()"
   ]
  },
  {
   "cell_type": "code",
   "execution_count": 7,
   "metadata": {},
   "outputs": [
    {
     "data": {
      "text/html": [
       "<div>\n",
       "<style scoped>\n",
       "    .dataframe tbody tr th:only-of-type {\n",
       "        vertical-align: middle;\n",
       "    }\n",
       "\n",
       "    .dataframe tbody tr th {\n",
       "        vertical-align: top;\n",
       "    }\n",
       "\n",
       "    .dataframe thead th {\n",
       "        text-align: right;\n",
       "    }\n",
       "</style>\n",
       "<table border=\"1\" class=\"dataframe\">\n",
       "  <thead>\n",
       "    <tr style=\"text-align: right;\">\n",
       "      <th></th>\n",
       "      <th>ID</th>\n",
       "      <th>Host ID</th>\n",
       "      <th>Latitude</th>\n",
       "      <th>Longitude</th>\n",
       "      <th>Price</th>\n",
       "      <th>Minimum Nights</th>\n",
       "      <th>Number of Reviews</th>\n",
       "      <th>Reviews per Month</th>\n",
       "      <th>Calculated Host Listings Count</th>\n",
       "      <th>Availability</th>\n",
       "    </tr>\n",
       "  </thead>\n",
       "  <tbody>\n",
       "    <tr>\n",
       "      <th>count</th>\n",
       "      <td>3.136200e+04</td>\n",
       "      <td>3.136200e+04</td>\n",
       "      <td>31362.000000</td>\n",
       "      <td>31362.000000</td>\n",
       "      <td>31362.000000</td>\n",
       "      <td>31362.000000</td>\n",
       "      <td>31362.000000</td>\n",
       "      <td>26155.000000</td>\n",
       "      <td>31362.000000</td>\n",
       "      <td>31362.000000</td>\n",
       "    </tr>\n",
       "    <tr>\n",
       "      <th>mean</th>\n",
       "      <td>2.100481e+07</td>\n",
       "      <td>8.144950e+07</td>\n",
       "      <td>40.728401</td>\n",
       "      <td>-73.948745</td>\n",
       "      <td>162.050475</td>\n",
       "      <td>8.338658</td>\n",
       "      <td>31.852369</td>\n",
       "      <td>1.810126</td>\n",
       "      <td>10.334067</td>\n",
       "      <td>175.831994</td>\n",
       "    </tr>\n",
       "    <tr>\n",
       "      <th>std</th>\n",
       "      <td>1.148631e+07</td>\n",
       "      <td>8.673088e+07</td>\n",
       "      <td>0.056561</td>\n",
       "      <td>0.051397</td>\n",
       "      <td>254.425463</td>\n",
       "      <td>23.836703</td>\n",
       "      <td>51.636804</td>\n",
       "      <td>1.805707</td>\n",
       "      <td>40.700398</td>\n",
       "      <td>126.187636</td>\n",
       "    </tr>\n",
       "    <tr>\n",
       "      <th>min</th>\n",
       "      <td>2.539000e+03</td>\n",
       "      <td>2.571000e+03</td>\n",
       "      <td>40.499790</td>\n",
       "      <td>-74.244420</td>\n",
       "      <td>0.000000</td>\n",
       "      <td>1.000000</td>\n",
       "      <td>0.000000</td>\n",
       "      <td>0.010000</td>\n",
       "      <td>1.000000</td>\n",
       "      <td>1.000000</td>\n",
       "    </tr>\n",
       "    <tr>\n",
       "      <th>25%</th>\n",
       "      <td>1.167514e+07</td>\n",
       "      <td>8.620116e+06</td>\n",
       "      <td>40.688383</td>\n",
       "      <td>-73.983270</td>\n",
       "      <td>70.000000</td>\n",
       "      <td>2.000000</td>\n",
       "      <td>2.000000</td>\n",
       "      <td>0.450000</td>\n",
       "      <td>1.000000</td>\n",
       "      <td>55.000000</td>\n",
       "    </tr>\n",
       "    <tr>\n",
       "      <th>50%</th>\n",
       "      <td>2.254548e+07</td>\n",
       "      <td>4.109561e+07</td>\n",
       "      <td>40.723720</td>\n",
       "      <td>-73.954110</td>\n",
       "      <td>111.500000</td>\n",
       "      <td>3.000000</td>\n",
       "      <td>10.000000</td>\n",
       "      <td>1.230000</td>\n",
       "      <td>1.000000</td>\n",
       "      <td>168.000000</td>\n",
       "    </tr>\n",
       "    <tr>\n",
       "      <th>75%</th>\n",
       "      <td>3.119407e+07</td>\n",
       "      <td>1.452145e+08</td>\n",
       "      <td>40.763030</td>\n",
       "      <td>-73.930133</td>\n",
       "      <td>189.000000</td>\n",
       "      <td>5.000000</td>\n",
       "      <td>39.000000</td>\n",
       "      <td>2.680000</td>\n",
       "      <td>3.000000</td>\n",
       "      <td>305.000000</td>\n",
       "    </tr>\n",
       "    <tr>\n",
       "      <th>max</th>\n",
       "      <td>3.648724e+07</td>\n",
       "      <td>2.743213e+08</td>\n",
       "      <td>40.913060</td>\n",
       "      <td>-73.712990</td>\n",
       "      <td>10000.000000</td>\n",
       "      <td>1250.000000</td>\n",
       "      <td>629.000000</td>\n",
       "      <td>58.500000</td>\n",
       "      <td>327.000000</td>\n",
       "      <td>365.000000</td>\n",
       "    </tr>\n",
       "  </tbody>\n",
       "</table>\n",
       "</div>"
      ],
      "text/plain": [
       "                 ID       Host ID      Latitude     Longitude         Price  \\\n",
       "count  3.136200e+04  3.136200e+04  31362.000000  31362.000000  31362.000000   \n",
       "mean   2.100481e+07  8.144950e+07     40.728401    -73.948745    162.050475   \n",
       "std    1.148631e+07  8.673088e+07      0.056561      0.051397    254.425463   \n",
       "min    2.539000e+03  2.571000e+03     40.499790    -74.244420      0.000000   \n",
       "25%    1.167514e+07  8.620116e+06     40.688383    -73.983270     70.000000   \n",
       "50%    2.254548e+07  4.109561e+07     40.723720    -73.954110    111.500000   \n",
       "75%    3.119407e+07  1.452145e+08     40.763030    -73.930133    189.000000   \n",
       "max    3.648724e+07  2.743213e+08     40.913060    -73.712990  10000.000000   \n",
       "\n",
       "       Minimum Nights  Number of Reviews  Reviews per Month  \\\n",
       "count    31362.000000       31362.000000       26155.000000   \n",
       "mean         8.338658          31.852369           1.810126   \n",
       "std         23.836703          51.636804           1.805707   \n",
       "min          1.000000           0.000000           0.010000   \n",
       "25%          2.000000           2.000000           0.450000   \n",
       "50%          3.000000          10.000000           1.230000   \n",
       "75%          5.000000          39.000000           2.680000   \n",
       "max       1250.000000         629.000000          58.500000   \n",
       "\n",
       "       Calculated Host Listings Count  Availability  \n",
       "count                    31362.000000  31362.000000  \n",
       "mean                        10.334067    175.831994  \n",
       "std                         40.700398    126.187636  \n",
       "min                          1.000000      1.000000  \n",
       "25%                          1.000000     55.000000  \n",
       "50%                          1.000000    168.000000  \n",
       "75%                          3.000000    305.000000  \n",
       "max                        327.000000    365.000000  "
      ]
     },
     "execution_count": 7,
     "metadata": {},
     "output_type": "execute_result"
    }
   ],
   "source": [
    "# summary of dataset\n",
    "datadf.describe()"
   ]
  },
  {
   "cell_type": "code",
   "execution_count": 8,
   "metadata": {},
   "outputs": [],
   "source": [
    "# Cleaning up data.\n",
    "# datadf.drop(['latitude'],axis=1, inplace=True)\n",
    "# datadf.drop(['longitude'], axis=1, inplace=True)\n",
    "# datadf.drop(['last_review'],axis=1, inplace=True)\n",
    "# datadf.drop(['availability_365'],axis=1, inplace=True)\n",
    "# datadf"
   ]
  },
  {
   "cell_type": "code",
   "execution_count": 13,
   "metadata": {},
   "outputs": [],
   "source": [
    "# Host summary"
   ]
  },
  {
   "cell_type": "code",
   "execution_count": 10,
   "metadata": {},
   "outputs": [
    {
     "data": {
      "text/html": [
       "<div>\n",
       "<style scoped>\n",
       "    .dataframe tbody tr th:only-of-type {\n",
       "        vertical-align: middle;\n",
       "    }\n",
       "\n",
       "    .dataframe tbody tr th {\n",
       "        vertical-align: top;\n",
       "    }\n",
       "\n",
       "    .dataframe thead th {\n",
       "        text-align: right;\n",
       "    }\n",
       "</style>\n",
       "<table border=\"1\" class=\"dataframe\">\n",
       "  <thead>\n",
       "    <tr style=\"text-align: right;\">\n",
       "      <th></th>\n",
       "      <th>Host Count</th>\n",
       "      <th>List ID count</th>\n",
       "    </tr>\n",
       "  </thead>\n",
       "  <tbody>\n",
       "    <tr>\n",
       "      <th>0</th>\n",
       "      <td>21809</td>\n",
       "      <td>31362</td>\n",
       "    </tr>\n",
       "  </tbody>\n",
       "</table>\n",
       "</div>"
      ],
      "text/plain": [
       "   Host Count  List ID count\n",
       "0       21809          31362"
      ]
     },
     "execution_count": 10,
     "metadata": {},
     "output_type": "execute_result"
    }
   ],
   "source": [
    "host_count = len(datadf['Host ID'].unique())\n",
    "id_count = len(datadf['ID'].unique())\n",
    "host=pd.DataFrame({\"Host Count\":[host_count],\"List ID count\":[id_count]})\n",
    "host"
   ]
  },
  {
   "cell_type": "code",
   "execution_count": 11,
   "metadata": {},
   "outputs": [
    {
     "data": {
      "text/plain": [
       "count    21809.000000\n",
       "mean         1.438030\n",
       "std          3.549362\n",
       "min          1.000000\n",
       "25%          1.000000\n",
       "50%          1.000000\n",
       "75%          1.000000\n",
       "max        327.000000\n",
       "Name: Host ID, dtype: float64"
      ]
     },
     "execution_count": 11,
     "metadata": {},
     "output_type": "execute_result"
    }
   ],
   "source": [
    "mutiple_list_count=datadf['Host ID'].value_counts()\n",
    "mutiple_list_count.describe()"
   ]
  },
  {
   "cell_type": "code",
   "execution_count": 13,
   "metadata": {},
   "outputs": [
    {
     "data": {
      "text/html": [
       "<div>\n",
       "<style scoped>\n",
       "    .dataframe tbody tr th:only-of-type {\n",
       "        vertical-align: middle;\n",
       "    }\n",
       "\n",
       "    .dataframe tbody tr th {\n",
       "        vertical-align: top;\n",
       "    }\n",
       "\n",
       "    .dataframe thead th {\n",
       "        text-align: right;\n",
       "    }\n",
       "</style>\n",
       "<table border=\"1\" class=\"dataframe\">\n",
       "  <thead>\n",
       "    <tr style=\"text-align: right;\">\n",
       "      <th></th>\n",
       "      <th>Mutiple Listing</th>\n",
       "    </tr>\n",
       "  </thead>\n",
       "  <tbody>\n",
       "    <tr>\n",
       "      <th>1_list</th>\n",
       "      <td>17393</td>\n",
       "    </tr>\n",
       "    <tr>\n",
       "      <th>under 5_list</th>\n",
       "      <td>9370</td>\n",
       "    </tr>\n",
       "    <tr>\n",
       "      <th>under 10_list</th>\n",
       "      <td>1731</td>\n",
       "    </tr>\n",
       "    <tr>\n",
       "      <th>under 20_list</th>\n",
       "      <td>712</td>\n",
       "    </tr>\n",
       "    <tr>\n",
       "      <th>more than 201units</th>\n",
       "      <td>559</td>\n",
       "    </tr>\n",
       "    <tr>\n",
       "      <th>under 50_list</th>\n",
       "      <td>556</td>\n",
       "    </tr>\n",
       "    <tr>\n",
       "      <th>under 100_list</th>\n",
       "      <td>526</td>\n",
       "    </tr>\n",
       "    <tr>\n",
       "      <th>under 30_list</th>\n",
       "      <td>302</td>\n",
       "    </tr>\n",
       "    <tr>\n",
       "      <th>under 200_list</th>\n",
       "      <td>213</td>\n",
       "    </tr>\n",
       "  </tbody>\n",
       "</table>\n",
       "</div>"
      ],
      "text/plain": [
       "                    Mutiple Listing\n",
       "1_list                        17393\n",
       "under 5_list                   9370\n",
       "under 10_list                  1731\n",
       "under 20_list                   712\n",
       "more than 201units              559\n",
       "under 50_list                   556\n",
       "under 100_list                  526\n",
       "under 30_list                   302\n",
       "under 200_list                  213"
      ]
     },
     "execution_count": 13,
     "metadata": {},
     "output_type": "execute_result"
    }
   ],
   "source": [
    "list_bins = [0,1,5, 10, 20,30,50,100,200,max(datadf['Calculated Host Listings Count'])]\n",
    "list_group_names =['1_list','under 5_list','under 10_list','under 20_list','under 30_list','under 50_list','under 100_list','under 200_list','more than 201units']\n",
    "datadf[\"Mutiple Listing\"] = pd.cut(datadf[\"Calculated Host Listings Count\"], list_bins, labels=list_group_names)\n",
    "list_Demographics = pd.DataFrame(datadf[\"Mutiple Listing\"].value_counts())\n",
    "# total_list = len(datadf[\"ID\"]) \n",
    "# list_Demographics[\"Percentage of listing\"]= round(list_Demographics[\"Mutiple Listing\"]/ total_list *100,2)\n",
    "# list_Demographics[\"Percentage of listing\"]= list_Demographics[\"Percentage of listing\"].map(\"{:.2f}%\".format)\n",
    "list_Demographics\n"
   ]
  },
  {
   "cell_type": "code",
   "execution_count": 15,
   "metadata": {},
   "outputs": [
    {
     "data": {
      "image/png": "[encoded data removed]",
      "text/plain": [
       "<Figure size 432x288 with 1 Axes>"
      ]
     },
     "metadata": {},
     "output_type": "display_data"
    }
   ],
   "source": [
    "pies = ['1_list','under 5_list','under 10_list','under 20_list','under 30_list','under 50_list','under 100_list','under 200_list','more than 201units']\n",
    "pie_votes = list_Demographics[\"Mutiple Listing\"]\n",
    "colors = [\"green\",\"lightblue\",\"orange\",\"red\",\"purple\",\"pink\",\"yellowgreen\",\"lightskyblue\",\"yellow\"]\n",
    "explode = (0.1,0,0,0,0,0,0,0,0,0)\n",
    "plt.pie(pie_votes, labels=pies,colors=colors,autopct=\"%1.1f%%\",radius=4)\n",
    "plt.show()"
   ]
  },
  {
   "cell_type": "code",
   "execution_count": 44,
   "metadata": {},
   "outputs": [
    {
     "data": {
      "text/plain": [
       "<BarContainer object of 9 artists>"
      ]
     },
     "execution_count": 44,
     "metadata": {},
     "output_type": "execute_result"
    },
    {
     "data": {
      "image/png": "[encoded data removed]",
      "text/plain": [
       "<Figure size 432x288 with 1 Axes>"
      ]
     },
     "metadata": {
      "needs_background": "light"
     },
     "output_type": "display_data"
    }
   ],
   "source": [
    "plt.bar( list_Demographics.index, list_Demographics[\"Mutiple Listing\"],color='r',alpha=0.7,align ='center')"
   ]
  },
  {
   "cell_type": "code",
   "execution_count": 16,
   "metadata": {},
   "outputs": [
    {
     "name": "stdout",
     "output_type": "stream",
     "text": [
      "min price:0, max price:10000,mean_p:162.05047509725145\n"
     ]
    }
   ],
   "source": [
    "# price Demographics\n",
    "min_p = min(datadf['Price'])\n",
    "max_p = max(datadf['Price'])\n",
    "mean_p = datadf['Price'].mean()\n",
    "print(f'min price:{min_p}, max price:{max_p},mean_p:{mean_p}')\n"
   ]
  },
  {
   "cell_type": "code",
   "execution_count": 18,
   "metadata": {},
   "outputs": [
    {
     "data": {
      "text/html": [
       "<div>\n",
       "<style scoped>\n",
       "    .dataframe tbody tr th:only-of-type {\n",
       "        vertical-align: middle;\n",
       "    }\n",
       "\n",
       "    .dataframe tbody tr th {\n",
       "        vertical-align: top;\n",
       "    }\n",
       "\n",
       "    .dataframe thead th {\n",
       "        text-align: right;\n",
       "    }\n",
       "</style>\n",
       "<table border=\"1\" class=\"dataframe\">\n",
       "  <thead>\n",
       "    <tr style=\"text-align: right;\">\n",
       "      <th></th>\n",
       "      <th>list_price</th>\n",
       "    </tr>\n",
       "  </thead>\n",
       "  <tbody>\n",
       "    <tr>\n",
       "      <th>under 100</th>\n",
       "      <td>10763</td>\n",
       "    </tr>\n",
       "    <tr>\n",
       "      <th>under 150</th>\n",
       "      <td>6226</td>\n",
       "    </tr>\n",
       "    <tr>\n",
       "      <th>under 200</th>\n",
       "      <td>4262</td>\n",
       "    </tr>\n",
       "    <tr>\n",
       "      <th>under 50</th>\n",
       "      <td>3934</td>\n",
       "    </tr>\n",
       "    <tr>\n",
       "      <th>under 1000</th>\n",
       "      <td>2438</td>\n",
       "    </tr>\n",
       "    <tr>\n",
       "      <th>under 250</th>\n",
       "      <td>2214</td>\n",
       "    </tr>\n",
       "    <tr>\n",
       "      <th>under 300</th>\n",
       "      <td>1345</td>\n",
       "    </tr>\n",
       "    <tr>\n",
       "      <th>over 1001</th>\n",
       "      <td>172</td>\n",
       "    </tr>\n",
       "  </tbody>\n",
       "</table>\n",
       "</div>"
      ],
      "text/plain": [
       "            list_price\n",
       "under 100        10763\n",
       "under 150         6226\n",
       "under 200         4262\n",
       "under 50          3934\n",
       "under 1000        2438\n",
       "under 250         2214\n",
       "under 300         1345\n",
       "over 1001          172"
      ]
     },
     "execution_count": 18,
     "metadata": {},
     "output_type": "execute_result"
    }
   ],
   "source": [
    "price_bins = [0,50,100, 150, 200,250,300,1000, max(datadf['Price'])]\n",
    "price_group_names =['under 50','under 100','under 150','under 200','under 250','under 300','under 1000','over 1001']\n",
    "datadf[\"Price categories\"] = pd.cut(datadf[\"Price\"], price_bins, labels=price_group_names)\n",
    "datadf[\"list_price\"] = pd.cut(datadf[\"Price\"], price_bins, labels=price_group_names)\n",
    "price_Demographics = pd.DataFrame(datadf[\"list_price\"].value_counts())\n",
    "# price_Demographics[\"list_price\"]= round(price_Demographics[\"list_price\"]/ total_list *100,2)\n",
    "# list_Demographics[\"Percentage of listing\"]= list_Demographics[\"Percentage of listing\"].map(\"{:.2f}%\".format)\n",
    "price_Demographics"
   ]
  },
  {
   "cell_type": "code",
   "execution_count": 20,
   "metadata": {},
   "outputs": [
    {
     "data": {
      "image/png": "[encoded data removed]",
      "text/plain": [
       "<Figure size 432x288 with 1 Axes>"
      ]
     },
     "metadata": {},
     "output_type": "display_data"
    }
   ],
   "source": [
    "plt.pie(price_Demographics['list_price'],labels=price_Demographics.index,autopct=\"%1.1f%%\",radius=4)\n",
    "plt.show()\n",
    "\n",
    "\n"
   ]
  },
  {
   "cell_type": "code",
   "execution_count": 22,
   "metadata": {},
   "outputs": [
    {
     "data": {
      "text/html": [
       "<div>\n",
       "<style scoped>\n",
       "    .dataframe tbody tr th:only-of-type {\n",
       "        vertical-align: middle;\n",
       "    }\n",
       "\n",
       "    .dataframe tbody tr th {\n",
       "        vertical-align: top;\n",
       "    }\n",
       "\n",
       "    .dataframe thead th {\n",
       "        text-align: right;\n",
       "    }\n",
       "</style>\n",
       "<table border=\"1\" class=\"dataframe\">\n",
       "  <thead>\n",
       "    <tr style=\"text-align: right;\">\n",
       "      <th></th>\n",
       "      <th>id</th>\n",
       "      <th>name</th>\n",
       "      <th>host_id</th>\n",
       "      <th>host_name</th>\n",
       "      <th>neighbourhood</th>\n",
       "      <th>latitude</th>\n",
       "      <th>longitude</th>\n",
       "      <th>room_type</th>\n",
       "      <th>price</th>\n",
       "      <th>minimum_nights</th>\n",
       "      <th>number_of_reviews</th>\n",
       "      <th>last_review</th>\n",
       "      <th>reviews_per_month</th>\n",
       "      <th>calculated_host_listings_count</th>\n",
       "      <th>availability_365</th>\n",
       "    </tr>\n",
       "    <tr>\n",
       "      <th>neighbourhood_group</th>\n",
       "      <th></th>\n",
       "      <th></th>\n",
       "      <th></th>\n",
       "      <th></th>\n",
       "      <th></th>\n",
       "      <th></th>\n",
       "      <th></th>\n",
       "      <th></th>\n",
       "      <th></th>\n",
       "      <th></th>\n",
       "      <th></th>\n",
       "      <th></th>\n",
       "      <th></th>\n",
       "      <th></th>\n",
       "      <th></th>\n",
       "    </tr>\n",
       "  </thead>\n",
       "  <tbody>\n",
       "    <tr>\n",
       "      <th>Bronx</th>\n",
       "      <td>1091</td>\n",
       "      <td>1090</td>\n",
       "      <td>1091</td>\n",
       "      <td>1090</td>\n",
       "      <td>1091</td>\n",
       "      <td>1091</td>\n",
       "      <td>1091</td>\n",
       "      <td>1091</td>\n",
       "      <td>1091</td>\n",
       "      <td>1091</td>\n",
       "      <td>1091</td>\n",
       "      <td>876</td>\n",
       "      <td>876</td>\n",
       "      <td>1091</td>\n",
       "      <td>1091</td>\n",
       "    </tr>\n",
       "    <tr>\n",
       "      <th>Brooklyn</th>\n",
       "      <td>20104</td>\n",
       "      <td>20098</td>\n",
       "      <td>20104</td>\n",
       "      <td>20095</td>\n",
       "      <td>20104</td>\n",
       "      <td>20104</td>\n",
       "      <td>20104</td>\n",
       "      <td>20104</td>\n",
       "      <td>20104</td>\n",
       "      <td>20104</td>\n",
       "      <td>20104</td>\n",
       "      <td>16447</td>\n",
       "      <td>16447</td>\n",
       "      <td>20104</td>\n",
       "      <td>20104</td>\n",
       "    </tr>\n",
       "    <tr>\n",
       "      <th>Manhattan</th>\n",
       "      <td>21661</td>\n",
       "      <td>21652</td>\n",
       "      <td>21661</td>\n",
       "      <td>21652</td>\n",
       "      <td>21661</td>\n",
       "      <td>21661</td>\n",
       "      <td>21661</td>\n",
       "      <td>21661</td>\n",
       "      <td>21661</td>\n",
       "      <td>21661</td>\n",
       "      <td>21661</td>\n",
       "      <td>16632</td>\n",
       "      <td>16632</td>\n",
       "      <td>21661</td>\n",
       "      <td>21661</td>\n",
       "    </tr>\n",
       "    <tr>\n",
       "      <th>Queens</th>\n",
       "      <td>5666</td>\n",
       "      <td>5666</td>\n",
       "      <td>5666</td>\n",
       "      <td>5664</td>\n",
       "      <td>5666</td>\n",
       "      <td>5666</td>\n",
       "      <td>5666</td>\n",
       "      <td>5666</td>\n",
       "      <td>5666</td>\n",
       "      <td>5666</td>\n",
       "      <td>5666</td>\n",
       "      <td>4574</td>\n",
       "      <td>4574</td>\n",
       "      <td>5666</td>\n",
       "      <td>5666</td>\n",
       "    </tr>\n",
       "    <tr>\n",
       "      <th>Staten Island</th>\n",
       "      <td>373</td>\n",
       "      <td>373</td>\n",
       "      <td>373</td>\n",
       "      <td>373</td>\n",
       "      <td>373</td>\n",
       "      <td>373</td>\n",
       "      <td>373</td>\n",
       "      <td>373</td>\n",
       "      <td>373</td>\n",
       "      <td>373</td>\n",
       "      <td>373</td>\n",
       "      <td>314</td>\n",
       "      <td>314</td>\n",
       "      <td>373</td>\n",
       "      <td>373</td>\n",
       "    </tr>\n",
       "  </tbody>\n",
       "</table>\n",
       "</div>"
      ],
      "text/plain": [
       "                        id   name  host_id  host_name  neighbourhood  \\\n",
       "neighbourhood_group                                                    \n",
       "Bronx                 1091   1090     1091       1090           1091   \n",
       "Brooklyn             20104  20098    20104      20095          20104   \n",
       "Manhattan            21661  21652    21661      21652          21661   \n",
       "Queens                5666   5666     5666       5664           5666   \n",
       "Staten Island          373    373      373        373            373   \n",
       "\n",
       "                     latitude  longitude  room_type  price  minimum_nights  \\\n",
       "neighbourhood_group                                                          \n",
       "Bronx                    1091       1091       1091   1091            1091   \n",
       "Brooklyn                20104      20104      20104  20104           20104   \n",
       "Manhattan               21661      21661      21661  21661           21661   \n",
       "Queens                   5666       5666       5666   5666            5666   \n",
       "Staten Island             373        373        373    373             373   \n",
       "\n",
       "                     number_of_reviews  last_review  reviews_per_month  \\\n",
       "neighbourhood_group                                                      \n",
       "Bronx                             1091          876                876   \n",
       "Brooklyn                         20104        16447              16447   \n",
       "Manhattan                        21661        16632              16632   \n",
       "Queens                            5666         4574               4574   \n",
       "Staten Island                      373          314                314   \n",
       "\n",
       "                     calculated_host_listings_count  availability_365  \n",
       "neighbourhood_group                                                    \n",
       "Bronx                                          1091              1091  \n",
       "Brooklyn                                      20104             20104  \n",
       "Manhattan                                     21661             21661  \n",
       "Queens                                         5666              5666  \n",
       "Staten Island                                   373               373  "
      ]
     },
     "execution_count": 22,
     "metadata": {},
     "output_type": "execute_result"
    }
   ],
   "source": [
    "area_mean=datadf.groupby('neighbourhood_group').count()\n",
    "area_mean\n",
    "\n",
    "group1=datadf.groupby(['neighbourhood_group',\"price categories.).count"
   ]
  },
  {
   "cell_type": "code",
   "execution_count": 13,
   "metadata": {},
   "outputs": [
    {
     "data": {
      "text/plain": [
       "<matplotlib.collections.PathCollection at 0x149ef5637f0>"
      ]
     },
     "execution_count": 13,
     "metadata": {},
     "output_type": "execute_result"
    },
    {
     "data": {
      "image/png": "[encoded data removed]",
      "text/plain": [
       "<Figure size 432x288 with 1 Axes>"
      ]
     },
     "metadata": {
      "needs_background": "light"
     },
     "output_type": "display_data"
    }
   ],
   "source": [
    "plt.scatter(datadf['room_type'], datadf['price'])\n"
   ]
  },
  {
   "cell_type": "code",
   "execution_count": 17,
   "metadata": {},
   "outputs": [
    {
     "data": {
      "text/plain": [
       "<matplotlib.collections.PathCollection at 0x149f065b588>"
      ]
     },
     "execution_count": 17,
     "metadata": {},
     "output_type": "execute_result"
    },
    {
     "data": {
      "image/png": "[encoded data removed]",
      "text/plain": [
       "<Figure size 432x288 with 1 Axes>"
      ]
     },
     "metadata": {
      "needs_background": "light"
     },
     "output_type": "display_data"
    }
   ],
   "source": [
    "plt.scatter(datadf['minimum_nights'], datadf['price'])"
   ]
  },
  {
   "cell_type": "code",
   "execution_count": null,
   "metadata": {},
   "outputs": [],
   "source": []
  }
 ],
 "metadata": {
  "kernelspec": {
   "display_name": "Python 3",
   "language": "python",
   "name": "python3"
  },
  "language_info": {
   "codemirror_mode": {
    "name": "ipython",
    "version": 3
   },
   "file_extension": ".py",
   "mimetype": "text/x-python",
   "name": "python",
   "nbconvert_exporter": "python",
   "pygments_lexer": "ipython3",
   "version": "3.7.3"
  }
 },
 "nbformat": 4,
 "nbformat_minor": 2
}
